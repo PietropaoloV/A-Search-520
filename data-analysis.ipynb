{
 "cells": [
  {
   "cell_type": "code",
   "execution_count": 1,
   "id": "48767ab5",
   "metadata": {},
   "outputs": [],
   "source": [
    "import numpy as np\n",
    "import matplotlib.pyplot as plt\n",
    "import pandas as pd\n",
    "import seaborn as sns\n",
    "sns.set_theme(style='whitegrid')"
   ]
  },
  {
   "cell_type": "code",
   "execution_count": 2,
   "id": "eae29de4",
   "metadata": {},
   "outputs": [],
   "source": [
    "# Data collected:\n",
    "# probability\n",
    "# num_steps_taken\n",
    "# num_examinations\n",
    "# num_cells_processed\n",
    "# num_bumps\n",
    "# num_plans\n",
    "# runtime"
   ]
  },
  {
   "cell_type": "code",
   "execution_count": 3,
   "id": "00353681",
   "metadata": {},
   "outputs": [],
   "source": [
    "agent6 = pd.read_csv('./data/agent6-50x50-1000x10.csv')\n",
    "agent7 = pd.read_csv('./data/agent7-50x50-1000x10.csv')\n",
    "agent8 = pd.read_csv('./data/agent8-50x50-1000x10.csv')\n",
    "\n",
    "data = [agent6, agent7, agent8]\n",
    "\n",
    "names = ['agent6', 'agent7', 'agent8']"
   ]
  },
  {
   "cell_type": "code",
   "execution_count": 4,
   "id": "2fa19f9e",
   "metadata": {},
   "outputs": [
    {
     "name": "stdout",
     "output_type": "stream",
     "text": [
      "agent6:  10916.246\n",
      "agent7:  10140.7296\n",
      "agent8:  3803.1112\n",
      "\n",
      "agent6:  3732.0\n",
      "agent7:  3797.5\n",
      "agent8:  2935.0\n"
     ]
    }
   ],
   "source": [
    "print('agent6: ', agent6['num_steps_taken'].mean())\n",
    "print('agent7: ', agent7['num_steps_taken'].mean())\n",
    "print('agent8: ', agent8['num_steps_taken'].mean())\n",
    "print()\n",
    "print('agent6: ', agent6['num_steps_taken'].median())\n",
    "print('agent7: ', agent7['num_steps_taken'].median())\n",
    "print('agent8: ', agent8['num_steps_taken'].median())"
   ]
  },
  {
   "cell_type": "code",
   "execution_count": 5,
   "id": "c43a65e2",
   "metadata": {},
   "outputs": [
    {
     "name": "stdout",
     "output_type": "stream",
     "text": [
      "agent6:  3267.6216\n",
      "agent7:  2980.7685\n",
      "agent8:  3325.2827\n",
      "\n",
      "agent6:  1621.0\n",
      "agent7:  1553.0\n",
      "agent8:  2028.0\n"
     ]
    }
   ],
   "source": [
    "print('agent6: ', agent6['num_examinations'].mean())\n",
    "print('agent7: ', agent7['num_examinations'].mean())\n",
    "print('agent8: ', agent8['num_examinations'].mean())\n",
    "print()\n",
    "print('agent6: ', agent6['num_examinations'].median())\n",
    "print('agent7: ', agent7['num_examinations'].median())\n",
    "print('agent8: ', agent8['num_examinations'].median())"
   ]
  },
  {
   "cell_type": "code",
   "execution_count": 6,
   "id": "3777a628",
   "metadata": {},
   "outputs": [
    {
     "name": "stdout",
     "output_type": "stream",
     "text": [
      "agent6:  14183.8676\n",
      "agent7:  13121.4981\n",
      "agent8:  7128.3939\n",
      "agent6:  5250.5\n",
      "agent7:  5407.0\n",
      "agent8:  4953.0\n"
     ]
    }
   ],
   "source": [
    "print('agent6: ', (agent6['num_examinations'] + agent6['num_steps_taken']).mean())\n",
    "print('agent7: ', (agent7['num_examinations'] + agent7['num_steps_taken']).mean())\n",
    "print('agent8: ', (agent8['num_examinations'] + agent8['num_steps_taken']).mean())\n",
    "\n",
    "print('agent6: ', (agent6['num_examinations'] + agent6['num_steps_taken']).median())\n",
    "print('agent7: ', (agent7['num_examinations'] + agent7['num_steps_taken']).median())\n",
    "print('agent8: ', (agent8['num_examinations'] + agent8['num_steps_taken']).median())"
   ]
  },
  {
   "cell_type": "code",
   "execution_count": 7,
   "id": "f5aa2445",
   "metadata": {},
   "outputs": [
    {
     "name": "stdout",
     "output_type": "stream",
     "text": [
      "agent6:  833762.9667\n",
      "agent7:  840448.3498\n",
      "agent8:  776710.1812\n"
     ]
    }
   ],
   "source": [
    "print('agent6: ', agent6['num_cells_processed'].mean())\n",
    "print('agent7: ', agent7['num_cells_processed'].mean())\n",
    "print('agent8: ', agent8['num_cells_processed'].mean())"
   ]
  },
  {
   "cell_type": "code",
   "execution_count": 8,
   "id": "959ac133",
   "metadata": {},
   "outputs": [
    {
     "name": "stdout",
     "output_type": "stream",
     "text": [
      "agent6:  546.4061\n",
      "agent7:  552.3104\n",
      "agent8:  518.578\n"
     ]
    }
   ],
   "source": [
    "print('agent6: ', agent6['num_bumps'].mean())\n",
    "print('agent7: ', agent7['num_bumps'].mean())\n",
    "print('agent8: ', agent8['num_bumps'].mean())"
   ]
  },
  {
   "cell_type": "code",
   "execution_count": 9,
   "id": "787cae2d",
   "metadata": {},
   "outputs": [
    {
     "name": "stdout",
     "output_type": "stream",
     "text": [
      "agent6:  4159.6807\n",
      "agent7:  3749.6274\n",
      "agent8:  2447.2663\n"
     ]
    }
   ],
   "source": [
    "print('agent6: ', agent6['num_plans'].mean())\n",
    "print('agent7: ', agent7['num_plans'].mean())\n",
    "print('agent8: ', agent8['num_plans'].mean())"
   ]
  },
  {
   "cell_type": "code",
   "execution_count": 10,
   "id": "3f688d5f",
   "metadata": {},
   "outputs": [
    {
     "name": "stdout",
     "output_type": "stream",
     "text": [
      "agent6:  0.30813377418610005\n",
      "agent7:  0.3246607042800998\n",
      "agent8:  0.3951312703859985\n"
     ]
    }
   ],
   "source": [
    "print('agent6: ', agent6['runtime'].mean())\n",
    "print('agent7: ', agent7['runtime'].mean())\n",
    "print('agent8: ', agent8['runtime'].mean())"
   ]
  },
  {
   "cell_type": "code",
   "execution_count": null,
   "id": "7d46c304",
   "metadata": {},
   "outputs": [],
   "source": []
  }
 ],
 "metadata": {
  "kernelspec": {
   "display_name": "Python 3 (ipykernel)",
   "language": "python",
   "name": "python3"
  },
  "language_info": {
   "codemirror_mode": {
    "name": "ipython",
    "version": 3
   },
   "file_extension": ".py",
   "mimetype": "text/x-python",
   "name": "python",
   "nbconvert_exporter": "python",
   "pygments_lexer": "ipython3",
   "version": "3.7.6"
  }
 },
 "nbformat": 4,
 "nbformat_minor": 5
}
