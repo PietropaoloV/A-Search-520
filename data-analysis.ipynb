{
 "cells": [
  {
   "cell_type": "code",
   "execution_count": 1,
   "id": "48767ab5",
   "metadata": {},
   "outputs": [],
   "source": [
    "import numpy as np\n",
    "import matplotlib.pyplot as plt\n",
    "import pandas as pd\n",
    "import seaborn as sns\n",
    "sns.set_theme(style='whitegrid')"
   ]
  },
  {
   "cell_type": "code",
   "execution_count": 2,
   "id": "eae29de4",
   "metadata": {},
   "outputs": [],
   "source": [
    "# Data collected:\n",
    "# probability\n",
    "# num_steps_taken\n",
    "# num_examinations\n",
    "# num_cells_processed\n",
    "# num_bumps\n",
    "# num_plans\n",
    "# runtime"
   ]
  },
  {
   "cell_type": "code",
   "execution_count": 3,
   "id": "00353681",
   "metadata": {},
   "outputs": [],
   "source": [
    "agent6 = pd.read_csv('./data/agent6old-101x101-1000x3.csv')\n",
    "agent7 = pd.read_csv('./data/agent7old-101x101-1000x3.csv')\n",
    "agent8 = pd.read_csv('./data/agent8old-101x101-1000x3.csv')\n",
    "\n",
    "data = [agent6, agent7, agent8]\n",
    "\n",
    "names = ['agent6', 'agent7', 'agent8']"
   ]
  },
  {
   "cell_type": "code",
   "execution_count": 4,
   "id": "2fa19f9e",
   "metadata": {},
   "outputs": [
    {
     "name": "stdout",
     "output_type": "stream",
     "text": [
      "agent6:  45347.437\n",
      "agent7:  39065.00433333333\n",
      "agent8:  15317.111666666666\n",
      "\n",
      "agent6:  16325.0\n",
      "agent7:  15371.0\n",
      "agent8:  11764.0\n"
     ]
    }
   ],
   "source": [
    "print('agent6: ', agent6['num_steps_taken'].mean())\n",
    "print('agent7: ', agent7['num_steps_taken'].mean())\n",
    "print('agent8: ', agent8['num_steps_taken'].mean())\n",
    "print()\n",
    "print('agent6: ', agent6['num_steps_taken'].median())\n",
    "print('agent7: ', agent7['num_steps_taken'].median())\n",
    "print('agent8: ', agent8['num_steps_taken'].median())"
   ]
  },
  {
   "cell_type": "code",
   "execution_count": 5,
   "id": "c43a65e2",
   "metadata": {},
   "outputs": [
    {
     "name": "stdout",
     "output_type": "stream",
     "text": [
      "agent6:  13540.449\n",
      "agent7:  12617.144333333334\n",
      "agent8:  14642.581\n",
      "\n",
      "agent6:  6856.0\n",
      "agent7:  6905.0\n",
      "agent8:  10011.0\n"
     ]
    }
   ],
   "source": [
    "print('agent6: ', agent6['num_examinations'].mean())\n",
    "print('agent7: ', agent7['num_examinations'].mean())\n",
    "print('agent8: ', agent8['num_examinations'].mean())\n",
    "print()\n",
    "print('agent6: ', agent6['num_examinations'].median())\n",
    "print('agent7: ', agent7['num_examinations'].median())\n",
    "print('agent8: ', agent8['num_examinations'].median())"
   ]
  },
  {
   "cell_type": "code",
   "execution_count": 6,
   "id": "3777a628",
   "metadata": {},
   "outputs": [
    {
     "name": "stdout",
     "output_type": "stream",
     "text": [
      "agent6:  58887.886\n",
      "agent7:  51682.14866666667\n",
      "agent8:  29959.692666666666\n",
      "\n",
      "agent6:  23234.0\n",
      "agent7:  22456.5\n",
      "agent8:  21629.0\n"
     ]
    }
   ],
   "source": [
    "print('agent6: ', (agent6['num_examinations'] + agent6['num_steps_taken']).mean())\n",
    "print('agent7: ', (agent7['num_examinations'] + agent7['num_steps_taken']).mean())\n",
    "print('agent8: ', (agent8['num_examinations'] + agent8['num_steps_taken']).mean())\n",
    "print()\n",
    "print('agent6: ', (agent6['num_examinations'] + agent6['num_steps_taken']).median())\n",
    "print('agent7: ', (agent7['num_examinations'] + agent7['num_steps_taken']).median())\n",
    "print('agent8: ', (agent8['num_examinations'] + agent8['num_steps_taken']).median())"
   ]
  },
  {
   "cell_type": "code",
   "execution_count": 7,
   "id": "f5aa2445",
   "metadata": {},
   "outputs": [
    {
     "name": "stdout",
     "output_type": "stream",
     "text": [
      "agent6:  13647664.445\n",
      "agent7:  14064469.087666666\n",
      "agent8:  12612774.558\n"
     ]
    }
   ],
   "source": [
    "print('agent6: ', agent6['num_cells_processed'].mean())\n",
    "print('agent7: ', agent7['num_cells_processed'].mean())\n",
    "print('agent8: ', agent8['num_cells_processed'].mean())"
   ]
  },
  {
   "cell_type": "code",
   "execution_count": 8,
   "id": "959ac133",
   "metadata": {},
   "outputs": [
    {
     "name": "stdout",
     "output_type": "stream",
     "text": [
      "agent6:  2249.623666666667\n",
      "agent7:  2296.883333333333\n",
      "agent8:  2061.1276666666668\n"
     ]
    }
   ],
   "source": [
    "print('agent6: ', agent6['num_bumps'].mean())\n",
    "print('agent7: ', agent7['num_bumps'].mean())\n",
    "print('agent8: ', agent8['num_bumps'].mean())"
   ]
  },
  {
   "cell_type": "code",
   "execution_count": 9,
   "id": "787cae2d",
   "metadata": {},
   "outputs": [
    {
     "name": "stdout",
     "output_type": "stream",
     "text": [
      "agent6:  17200.077\n",
      "agent7:  13763.007666666666\n",
      "agent8:  9871.405333333334\n"
     ]
    }
   ],
   "source": [
    "print('agent6: ', agent6['num_plans'].mean())\n",
    "print('agent7: ', agent7['num_plans'].mean())\n",
    "print('agent8: ', agent8['num_plans'].mean())"
   ]
  },
  {
   "cell_type": "code",
   "execution_count": 10,
   "id": "3f688d5f",
   "metadata": {},
   "outputs": [
    {
     "name": "stdout",
     "output_type": "stream",
     "text": [
      "agent6:  5.63047877312166\n",
      "agent7:  5.653059679456652\n",
      "agent8:  7.021176882194659\n"
     ]
    }
   ],
   "source": [
    "print('agent6: ', agent6['runtime'].mean())\n",
    "print('agent7: ', agent7['runtime'].mean())\n",
    "print('agent8: ', agent8['runtime'].mean())"
   ]
  },
  {
   "cell_type": "raw",
   "id": "bdba8bea",
   "metadata": {},
   "source": []
  }
 ],
 "metadata": {
  "kernelspec": {
   "display_name": "Python 3 (ipykernel)",
   "language": "python",
   "name": "python3"
  },
  "language_info": {
   "codemirror_mode": {
    "name": "ipython",
    "version": 3
   },
   "file_extension": ".py",
   "mimetype": "text/x-python",
   "name": "python",
   "nbconvert_exporter": "python",
   "pygments_lexer": "ipython3",
   "version": "3.7.6"
  }
 },
 "nbformat": 4,
 "nbformat_minor": 5
}
